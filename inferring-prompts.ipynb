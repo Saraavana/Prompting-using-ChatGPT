{
 "cells": [
  {
   "cell_type": "code",
   "execution_count": 1,
   "metadata": {},
   "outputs": [],
   "source": [
    "import openai\n",
    "import config\n",
    "\n",
    "open_api_key = config.chatgpt_apikey\n",
    "openai.api_key  = open_api_key"
   ]
  },
  {
   "cell_type": "code",
   "execution_count": 2,
   "metadata": {},
   "outputs": [],
   "source": [
    "def get_completion(prompt, model=\"gpt-3.5-turbo\"):\n",
    "    messages = [{\"role\": \"user\", \"content\": prompt}]\n",
    "    response = openai.ChatCompletion.create(\n",
    "        model=model,\n",
    "        messages=messages,\n",
    "        temperature=0, # this is the degree of randomness of the model's output\n",
    "    )\n",
    "    return response.choices[0].message[\"content\"]"
   ]
  },
  {
   "attachments": {},
   "cell_type": "markdown",
   "metadata": {},
   "source": [
    "### Product review text"
   ]
  },
  {
   "cell_type": "code",
   "execution_count": 17,
   "metadata": {},
   "outputs": [],
   "source": [
    "# Moisturising Body Lotion \n",
    "lotion_review = \"\"\" \n",
    "I'd like to start off by saying this product WORKS. \\\n",
    "I noticed results day one!!! Although it did not 100% \\\n",
    "clear my KP, it reduced it by 75% over the course of a \\\n",
    "couple weeks... I have used other products that claim \\\n",
    "to help KP, but I had no results with those. This product \\\n",
    "is great, however; the smell is awful. I would describe \\\n",
    "it as how a frat boy smells after he has had one to \\\n",
    "many PBRs and plastic bottle vodka shots, then throws up \\\n",
    "on himself. Luckily the smell doesn't linger for long. \\\n",
    "The texture of this lotion is also a bit tacky, which I \\\n",
    "don't love, but I still give this moisturising lotion 5 stars, \\\n",
    "because it does what its made to do.\n",
    "\"\"\""
   ]
  },
  {
   "attachments": {},
   "cell_type": "markdown",
   "metadata": {},
   "source": [
    "### Sentiment (positive/negative)"
   ]
  },
  {
   "cell_type": "code",
   "execution_count": 18,
   "metadata": {},
   "outputs": [
    {
     "name": "stdout",
     "output_type": "stream",
     "text": [
      "The sentiment of the product review is positive.\n"
     ]
    }
   ],
   "source": [
    "prompt = f\"\"\"\n",
    "What is the sentiment of the following product review, \n",
    "which is delimited with triple backticks?\n",
    "\n",
    "Review text: '''{lotion_review}'''\n",
    "\"\"\"\n",
    "response = get_completion(prompt)\n",
    "print(response)"
   ]
  },
  {
   "cell_type": "code",
   "execution_count": 19,
   "metadata": {},
   "outputs": [
    {
     "name": "stdout",
     "output_type": "stream",
     "text": [
      "positive\n"
     ]
    }
   ],
   "source": [
    "prompt = f\"\"\"\n",
    "What is the sentiment of the following product review, \n",
    "which is delimited with triple backticks?\n",
    "\n",
    "Give your answer as a single word, either \"positive\" \\\n",
    "or \"negative\".\n",
    "\n",
    "Review text: '''{lotion_review}'''\n",
    "\"\"\"\n",
    "response = get_completion(prompt)\n",
    "print(response)"
   ]
  },
  {
   "attachments": {},
   "cell_type": "markdown",
   "metadata": {},
   "source": [
    "### Identify emotions"
   ]
  },
  {
   "cell_type": "code",
   "execution_count": 20,
   "metadata": {},
   "outputs": [
    {
     "name": "stdout",
     "output_type": "stream",
     "text": [
      "excitement, satisfaction, disappointment, disgust, acceptance\n"
     ]
    }
   ],
   "source": [
    "prompt = f\"\"\"\n",
    "Identify a list of emotions that the writer of the \\\n",
    "following review is expressing. Include no more than \\\n",
    "five items in the list. Format your answer as a list of \\\n",
    "lower-case words separated by commas.\n",
    "\n",
    "Review text: '''{lotion_review}'''\n",
    "\"\"\"\n",
    "response = get_completion(prompt)\n",
    "print(response)"
   ]
  },
  {
   "attachments": {},
   "cell_type": "markdown",
   "metadata": {},
   "source": [
    "### Identify Anger"
   ]
  },
  {
   "cell_type": "code",
   "execution_count": 24,
   "metadata": {},
   "outputs": [
    {
     "name": "stdout",
     "output_type": "stream",
     "text": [
      "No.\n"
     ]
    }
   ],
   "source": [
    "prompt = f\"\"\"\n",
    "Is the writer of the following review expressing anger?\\\n",
    "The review is delimited with triple backticks. \\\n",
    "Give your answer as either yes or no.\n",
    "\n",
    "Review text: '''{lotion_review}'''\n",
    "\"\"\"\n",
    "response = get_completion(prompt)\n",
    "print(response)"
   ]
  },
  {
   "attachments": {},
   "cell_type": "markdown",
   "metadata": {},
   "source": [
    "### Extract product and company name from customer reviews"
   ]
  },
  {
   "cell_type": "code",
   "execution_count": 25,
   "metadata": {},
   "outputs": [
    {
     "name": "stdout",
     "output_type": "stream",
     "text": [
      "{\n",
      "  \"Item\": \"moisturising lotion\",\n",
      "  \"Brand\": \"unknown\"\n",
      "}\n"
     ]
    }
   ],
   "source": [
    "prompt = f\"\"\"\n",
    "Identify the following items from the review text: \n",
    "- Item purchased by reviewer\n",
    "- Company that made the item\n",
    "\n",
    "The review is delimited with triple backticks. \\\n",
    "Format your response as a JSON object with \\\n",
    "\"Item\" and \"Brand\" as the keys. \n",
    "If the information isn't present, use \"unknown\" \\\n",
    "as the value.\n",
    "Make your response as short as possible.\n",
    "  \n",
    "Review text: '''{lotion_review}'''\n",
    "\"\"\"\n",
    "response = get_completion(prompt)\n",
    "print(response)"
   ]
  },
  {
   "attachments": {},
   "cell_type": "markdown",
   "metadata": {},
   "source": [
    "### Doing multiple tasks at once"
   ]
  },
  {
   "cell_type": "code",
   "execution_count": 26,
   "metadata": {},
   "outputs": [
    {
     "name": "stdout",
     "output_type": "stream",
     "text": [
      "{\n",
      "    \"Sentiment\": \"positive\",\n",
      "    \"Anger\": false,\n",
      "    \"Item\": \"moisturising lotion\",\n",
      "    \"Brand\": \"unknown\"\n",
      "}\n"
     ]
    }
   ],
   "source": [
    "prompt = f\"\"\"\n",
    "Identify the following items from the review text: \n",
    "- Sentiment (positive or negative)\n",
    "- Is the reviewer expressing anger? (true or false)\n",
    "- Item purchased by reviewer\n",
    "- Company that made the item\n",
    "\n",
    "The review is delimited with triple backticks. \\\n",
    "Format your response as a JSON object with \\\n",
    "\"Sentiment\", \"Anger\", \"Item\" and \"Brand\" as the keys.\n",
    "If the information isn't present, use \"unknown\" \\\n",
    "as the value.\n",
    "Make your response as short as possible.\n",
    "Format the Anger value as a boolean.\n",
    "\n",
    "Review text: '''{lotion_review}'''\n",
    "\"\"\"\n",
    "response = get_completion(prompt)\n",
    "print(response)"
   ]
  },
  {
   "attachments": {},
   "cell_type": "markdown",
   "metadata": {},
   "source": [
    "### Inferring topics"
   ]
  },
  {
   "cell_type": "code",
   "execution_count": 27,
   "metadata": {},
   "outputs": [],
   "source": [
    "story = \"\"\"\n",
    "Today the Council adopted two assistance measures under the \n",
    "European Peace Facility (EPF) in support of the Armed Forces \n",
    "of the Republic of Moldova and the Georgian Defence Forces to \n",
    "enhance national security, stability and resilience in the defence \n",
    "sector of both countries.\n",
    "\n",
    "Josep Borrell, High Representative for Foreign Affairs and \n",
    "Security Policy With these new assistances, we continue to \n",
    "support the modernisation of the capacities of the Armed Forces \n",
    "of the Republic of Moldova and the Georgian Defence Forces. \n",
    "In a challenging geopolitical context and in line with their European \n",
    "aspirations, we are helping to strengthen their defence sectors and \n",
    "enhance their ability to participate in EU military missions and operations. \n",
    "This is the third assistance package for both countries under the EPF, \n",
    "clearly underlining the EUs unwavering commitment to the regions security and stability.\n",
    "\n",
    "Building on previous EPF support, the latest assistance measures \n",
    "will contribute to enhancing the operational effectiveness of \n",
    "the Armed Forces of the Republic of Moldova and the Georgian \n",
    "Defence Forces, and accelerate their compliance with EU standards \n",
    "and interoperability, thereby allowing for better protection of \n",
    "civilians during crises and emergencies. The measures are \n",
    "also aimed at strengthening the Moldovan and Georgian capacities \n",
    "with respect to their participation in EU military missions and \n",
    "operations in third countries.\n",
    "\n",
    "\n",
    "The adopted assistance measure is worth €40 million over a period \n",
    "of 36 months and will finance non-lethal equipment, supplies and \n",
    "services, to the units of the Armed Forces of the Republic of Moldova \n",
    "including technical training, where requested. The approved equipment \n",
    "includes air surveillance, mobility and transportation, logistics, \n",
    "command and control, and cyber-defence equipment. The assistance measure \n",
    "was requested by the Republic of Moldova on 6 February 2023, and \n",
    "complements the €40 million assistance measure adopted in June 2022 \n",
    "and the €7 million one adopted in December 2021.\n",
    "\n",
    "\n",
    "The €30 million assistance measure adopted today will cover a period \n",
    "of 36 months, and finance non-lethal equipment, supplies and services, \n",
    "to the units of the Georgian Defence Forces, including technical \n",
    "training where requested. The approved equipment includes engineering, \n",
    "command and control, medical, logistics and cyber-defence equipment\n",
    "\n",
    "The assistance was requested by Georgia on 8 February 2023, and \n",
    "complements the €20 million assistance measure adopted in December \n",
    "2022 and the €12.75 million one adopted in December 2021.\n",
    "\n",
    "The European Peace Facility was established in March 2021 to finance \n",
    "the Common Foreign and Security Policy (CFSP) actions in the areas \n",
    "of military and defence, with the aim of preventing conflict, \n",
    "preserving peace and strengthening international security and \n",
    "stability. In particular, the European Peace Facility allows the EU \n",
    "to finance actions designed to strengthen the capacities of non-EU \n",
    "countries and regional and international organisations relating to \n",
    "military and defence matters. Other beneficiaries have been among \n",
    "others Ukraine, the African Union, Niger, Mozambique, Bosnia and \n",
    "Herzegovina and Mali.\n",
    "\n",
    "The EU is committed to a close relationship in support of strong, \n",
    "independent and prosperous Republic of Moldova and Georgia, based on \n",
    "their respective Association Agreements. Pursuant to these agreements, \n",
    "the EU is intensifying its dialogue and cooperation with Moldova and \n",
    "Georgia, and promoting gradual convergence in the area of foreign and \n",
    "security policy, including the common security and defence policy (CSDP).\n",
    "\"\"\""
   ]
  },
  {
   "attachments": {},
   "cell_type": "markdown",
   "metadata": {},
   "source": [
    "### Infer 5 topics"
   ]
  },
  {
   "cell_type": "code",
   "execution_count": 28,
   "metadata": {},
   "outputs": [
    {
     "name": "stdout",
     "output_type": "stream",
     "text": [
      "European Peace Facility, Assistance Measures, Moldova, Georgia, Defence Sectors\n"
     ]
    }
   ],
   "source": [
    "prompt = f\"\"\"\n",
    "Determine five topics that are being discussed in the \\\n",
    "following text, which is delimited by triple backticks.\n",
    "\n",
    "Make each item one or two words long. \n",
    "\n",
    "Format your response as a list of items separated by commas.\n",
    "\n",
    "Text sample: '''{story}'''\n",
    "\"\"\"\n",
    "response = get_completion(prompt)\n",
    "print(response)"
   ]
  },
  {
   "cell_type": "code",
   "execution_count": 29,
   "metadata": {},
   "outputs": [
    {
     "data": {
      "text/plain": [
       "['European Peace Facility',\n",
       " ' Assistance Measures',\n",
       " ' Moldova',\n",
       " ' Georgia',\n",
       " ' Defence Sectors']"
      ]
     },
     "execution_count": 29,
     "metadata": {},
     "output_type": "execute_result"
    }
   ],
   "source": [
    "response.split(sep=',')"
   ]
  },
  {
   "cell_type": "code",
   "execution_count": 30,
   "metadata": {},
   "outputs": [],
   "source": [
    "topic_list = [\n",
    "    \"European Peace Facility\", \"defence\", \"engineering\", \n",
    "    \"federal government\"\n",
    "]"
   ]
  },
  {
   "attachments": {},
   "cell_type": "markdown",
   "metadata": {},
   "source": [
    "### Make a news alert for certain topics"
   ]
  },
  {
   "cell_type": "code",
   "execution_count": 31,
   "metadata": {},
   "outputs": [
    {
     "name": "stdout",
     "output_type": "stream",
     "text": [
      "European Peace Facility: 1\n",
      "defence: 1\n",
      "engineering: 1\n",
      "federal government: 0\n"
     ]
    }
   ],
   "source": [
    "prompt = f\"\"\"\n",
    "Determine whether each item in the following list of \\\n",
    "topics is a topic in the text below, which\n",
    "is delimited with triple backticks.\n",
    "\n",
    "Give your answer as list with 0 or 1 for each topic.\\\n",
    "\n",
    "List of topics: {\", \".join(topic_list)}\n",
    "\n",
    "Text sample: '''{story}'''\n",
    "\"\"\"\n",
    "response = get_completion(prompt)\n",
    "print(response)"
   ]
  },
  {
   "cell_type": "code",
   "execution_count": 32,
   "metadata": {},
   "outputs": [
    {
     "name": "stdout",
     "output_type": "stream",
     "text": [
      "ALERT: New European peace story!\n"
     ]
    }
   ],
   "source": [
    "topic_dict = {i.split(': ')[0]: int(i.split(': ')[1]) for i in response.split(sep='\\n')}\n",
    "if topic_dict['European Peace Facility'] == 1:\n",
    "    print(\"ALERT: New European peace story!\")"
   ]
  },
  {
   "cell_type": "code",
   "execution_count": null,
   "metadata": {},
   "outputs": [],
   "source": []
  }
 ],
 "metadata": {
  "kernelspec": {
   "display_name": ".venv",
   "language": "python",
   "name": "python3"
  },
  "language_info": {
   "codemirror_mode": {
    "name": "ipython",
    "version": 3
   },
   "file_extension": ".py",
   "mimetype": "text/x-python",
   "name": "python",
   "nbconvert_exporter": "python",
   "pygments_lexer": "ipython3",
   "version": "3.9.15"
  },
  "orig_nbformat": 4
 },
 "nbformat": 4,
 "nbformat_minor": 2
}

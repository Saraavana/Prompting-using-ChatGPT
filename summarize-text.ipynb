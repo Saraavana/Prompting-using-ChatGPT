{
 "cells": [
  {
   "cell_type": "code",
   "execution_count": 2,
   "metadata": {},
   "outputs": [],
   "source": [
    "import openai\n",
    "import config\n",
    "\n",
    "open_api_key = config.chatgpt_apikey\n",
    "openai.api_key  = open_api_key"
   ]
  },
  {
   "cell_type": "code",
   "execution_count": 3,
   "metadata": {},
   "outputs": [],
   "source": [
    "def get_completion(prompt, model=\"gpt-3.5-turbo\"):\n",
    "    messages = [{\"role\": \"user\", \"content\": prompt}]\n",
    "    response = openai.ChatCompletion.create(\n",
    "        model=model,\n",
    "        messages=messages,\n",
    "        temperature=0, # this is the degree of randomness of the model's output\n",
    "    )\n",
    "    return response.choices[0].message[\"content\"]"
   ]
  },
  {
   "attachments": {},
   "cell_type": "markdown",
   "metadata": {},
   "source": [
    "### Text to summarize"
   ]
  },
  {
   "cell_type": "code",
   "execution_count": 13,
   "metadata": {},
   "outputs": [],
   "source": [
    "take_responsibility_chapter = \"\"\"\n",
    "Horrible things will happen to us in the course of our lives. \\ \n",
    "Everyone will, or has dealt with the loss of a loved one, \\ \n",
    "losing their job, serious illness or disabilities. \\ \n",
    "We will encounter things or events that cause stress or anxiety. \\ \n",
    "It is a part of life. However, knowing that bad things will \\ \n",
    "happen to us allows us to prepare. Moreover, the only way \\ \n",
    "you can prepare is by accepting that it is not about what \\ \n",
    "happens to you, it is about: what you are going to do about it? \\ \n",
    "If something happens to us, we can sob about what or why it \\ \n",
    "happened. However, that is a waste of energy. Rather, \\ \n",
    "focus on what you can do about it or what you have \\ \n",
    "learned from that situation. Alternatively, when dealing \\ \n",
    "with loss, focus on the beautiful things that the person \\ \n",
    "has given us, and the experiences we shared and the things we \\ \n",
    "have learned. Even though we have lost someone we love, we \\ \n",
    "can keep their spirit alive by passing on the things we \\ \n",
    "have learned from that person. You are not the victim of \\ \n",
    "your circumstances. Where you are in life is not because of \\ \n",
    "the economy, your education or where you live. You are in \\ \n",
    "your situation because of your choices and very likely because \\ \n",
    "you give into fear. Do not throw in the towel on your dreams \\ \n",
    "because of the bad circumstances you are in. We often look \\ \n",
    "at life for what it should be, instead of what it is. \\ \n",
    "Everyone wants to have better luck in life. Being born in a \\ \n",
    "wealthy family, with perfect looks. However, we have to live life \\ \n",
    "with the hand that has been dealt to us. We have to take full \\ \n",
    "responsibility for our current situation. You take responsibility \\ \n",
    "by not blaming everyone else for your life. We all do this: we \\ \n",
    "blame the economy, the place we live in, our family members, \\ \n",
    "or our spouse. It is easy to blame someone else. \\ \n",
    "If you are unhappy in a relationship, there is no point in \\ \n",
    "blaming your partner by saying or doing mean things. It is \\ \n",
    "you who has decided to start a relationship, and it is you who \\ \n",
    "is still in that relationship. Either enjoy it or end it, \\ \n",
    "but whatever you do, never complain. It is the same for your job. \\ \n",
    "If you do not like your job, do not blame your boss or coworkers. \\ \n",
    "Take responsibility, it is you who decided to keep the job. \\ \n",
    "There's no point complaining about your coworkers or your boss. \\ \n",
    "\"\"\"\n",
    "\n",
    "# Smart watch review\n",
    "review = \"\"\"It took me a few months to identify the fluctuations \\\n",
    "in the body factor and assign them. It was a shock to \\\n",
    "me to find that these were related to my alcohol \\\n",
    "consumption. I am not an alcoholic (from my point of view), \\\n",
    "I am a connoisseur; I don't care how to see the other. \\\n",
    "Nevertheless, this curve has become very important to me. \\\n",
    "It is all the more regrettable that the curve fails several \\\n",
    "times a week and that I can only reactivate it by restarting \\\n",
    "the clock. That's why I only give three stars; otherwise I \\\n",
    "would have given five stars.\"\"\"\n",
    "\n",
    "review1 = \"\"\"\n",
    "The watch is very good, however, evaluating the \\\n",
    "competition of major brands is not worth it. \\\n",
    "The resolution is very poor and it's not a touch \\\n",
    "screen either. The battery lasts very well \\\n",
    "(about 2 weeks). Today after 3 months of use it crashed. \\\n",
    "I followed a procedure on the ecommerce website \\\n",
    "and was able to use the watch again. \\\n",
    "Good smart watches cost up to 5x more than \\\n",
    "this model lower than other brands where the price is much lower.\n",
    "\"\"\"\n",
    "\n",
    "# Fashion review\n",
    "review2 = \"\"\"\n",
    "The dress wasnt exactly what it looked like in the picture \\\n",
    "and I was a little surpised by that. Bearing in mind, body \\\n",
    "types and photo enhancements. I ordered 2 (2xl) dresses \\\n",
    "and 1 xl dress. The 2xl dresses were not the same grape colour, \\\n",
    "1 was slightly darker (closer to aubergine) which was \\\n",
    "disappointing since these will be used as bridesmaids \\\n",
    "dresses and purchasing the grape was already a compromise. \\\n",
    "The description suggested that the dress would fit as per \\\n",
    "the measurements but I followed the measurements and the \\\n",
    "dresses did not fit as expected. The largest size (2xl) fit \\\n",
    "persons that I thought the company hadn't catered for in \\\n",
    "their sizing chart and the XL was too large for the person \\\n",
    "it was purchased for. Otherwise the dresses did fit well, \\\n",
    "we've agreed that they will need to use body slimming \\\n",
    "undergarments to get a clean fit (there was a puckering of \\\n",
    "the zipper above the buttocks in both the 2xl dresses). \\\n",
    "The material was as expected though and the tailoring was \\\n",
    "excellent. I'd suggest buying exactly the size based on the \\\n",
    "measurements you have or a size smaller to be safe\n",
    "\"\"\"\n",
    "\n",
    "# Bicycle Saddle review\n",
    "review3 = \"\"\"\n",
    "I was initially very happy with the saddle. I also chose \\\n",
    "to purchase this saddle, as I saw it has a 2 year warranty \\\n",
    "and I thought this saddle would therefore make sense to \\\n",
    "purchase over a cheaper model. Sadly, well within the warranty \\\n",
    "period the saddle's seam around the middle hole has deteriorated \\\n",
    "and the saddle now works like a sponge on rainy days. It absorbs \\\n",
    "water and when sitting on the saddle, my pants get wet. I have tried \\\n",
    "to contact the seller through multiple avenues (through ecommerce \\ \n",
    "site and through their own website) and I have no received any response \\\n",
    "whatsoever. I have even given them weeks to respon before making \\\n",
    "this post. I am dissapointed as the warranty mentioned in the \\\n",
    "product description is fake and misleading.\n",
    "\"\"\"\n",
    "\n",
    "reviews = [review1, review2, review3]"
   ]
  },
  {
   "attachments": {},
   "cell_type": "markdown",
   "metadata": {},
   "source": [
    "### Summarize with a word/sentence/character limit"
   ]
  },
  {
   "cell_type": "code",
   "execution_count": 8,
   "metadata": {},
   "outputs": [
    {
     "name": "stdout",
     "output_type": "stream",
     "text": [
      "The reviewer found the body factor fluctuations helpful in identifying their alcohol consumption, but the curve fails frequently, resulting in a three-star rating.\n"
     ]
    }
   ],
   "source": [
    "prompt = f\"\"\"\n",
    "Your task is to generate a short summary of a product \\\n",
    "review from an ecommerce site. \n",
    "\n",
    "Summarize the review below, delimited by triple \n",
    "backticks, in at most 30 words. \n",
    "\n",
    "Review: ```{review}```\n",
    "\"\"\"\n",
    "\n",
    "response = get_completion(prompt)\n",
    "print(response)\n"
   ]
  },
  {
   "attachments": {},
   "cell_type": "markdown",
   "metadata": {},
   "source": [
    "### Try \"extract\" instead of \"summarize\""
   ]
  },
  {
   "cell_type": "code",
   "execution_count": 15,
   "metadata": {},
   "outputs": [
    {
     "name": "stdout",
     "output_type": "stream",
     "text": [
      "\"Good smart watches cost up to 5x more than this model lower than other brands where the price is much lower.\" Relevant to price and value.\n"
     ]
    }
   ],
   "source": [
    "prompt = f\"\"\"\n",
    "Your task is to extract relevant information from \\ \n",
    "a product review from an ecommerce site to give \\\n",
    "feedback to the Pricing department. \n",
    "\n",
    "From the review below, delimited by triple quotes \\\n",
    "extract the information relevant to price and \\ \n",
    "value. Limit to 30 words. \n",
    "\n",
    "Review: ```{review1}```\n",
    "\"\"\"\n",
    "\n",
    "response = get_completion(prompt)\n",
    "print(response)"
   ]
  },
  {
   "attachments": {},
   "cell_type": "markdown",
   "metadata": {},
   "source": [
    "### Summarize multiple product reviews"
   ]
  },
  {
   "cell_type": "code",
   "execution_count": 14,
   "metadata": {},
   "outputs": [
    {
     "name": "stdout",
     "output_type": "stream",
     "text": [
      "0 Good value smartwatch with long battery life, but poor resolution and no touch screen. Crashed after 3 months but fixable. \n",
      "\n",
      "1 Dresses didn't match in color, sizing was off, but material and tailoring were good. Suggest buying exact size or smaller. \n",
      "\n",
      "2 Saddle with 2-year warranty deteriorated within warranty period, no response from seller, warranty is misleading. \n",
      "\n"
     ]
    }
   ],
   "source": [
    "for i in range(len(reviews)):\n",
    "    prompt = f\"\"\"\n",
    "    Your task is to generate a short summary of a product \\ \n",
    "    review from an ecommerce site. \n",
    "\n",
    "    Summarize the review below, delimited by triple \\\n",
    "    backticks in at most 20 words. \n",
    "\n",
    "    Review: ```{reviews[i]}```\n",
    "    \"\"\"\n",
    "\n",
    "    response = get_completion(prompt)\n",
    "    print(i, response, \"\\n\")"
   ]
  },
  {
   "cell_type": "code",
   "execution_count": null,
   "metadata": {},
   "outputs": [],
   "source": []
  }
 ],
 "metadata": {
  "kernelspec": {
   "display_name": ".venv",
   "language": "python",
   "name": "python3"
  },
  "language_info": {
   "codemirror_mode": {
    "name": "ipython",
    "version": 3
   },
   "file_extension": ".py",
   "mimetype": "text/x-python",
   "name": "python",
   "nbconvert_exporter": "python",
   "pygments_lexer": "ipython3",
   "version": "3.9.15"
  },
  "orig_nbformat": 4
 },
 "nbformat": 4,
 "nbformat_minor": 2
}
